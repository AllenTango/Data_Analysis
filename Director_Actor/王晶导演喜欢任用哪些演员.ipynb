{
 "metadata": {
  "language_info": {
   "codemirror_mode": {
    "name": "ipython",
    "version": 3
   },
   "file_extension": ".py",
   "mimetype": "text/x-python",
   "name": "python",
   "nbconvert_exporter": "python",
   "pygments_lexer": "ipython3",
   "version": "3.8.3-final"
  },
  "orig_nbformat": 2,
  "kernelspec": {
   "name": "python38364bita08ff50c96224c6c90578cb62cd13975",
   "display_name": "Python 3.8.3 64-bit"
  }
 },
 "nbformat": 4,
 "nbformat_minor": 2,
 "cells": [
  {
   "source": [
    "# 抓取豆瓣电影中王晶的导演作品分析"
   ],
   "cell_type": "markdown",
   "metadata": {}
  },
  {
   "cell_type": "code",
   "execution_count": 2,
   "metadata": {},
   "outputs": [
    {
     "output_type": "stream",
     "name": "stdout",
     "text": [
      "当前页为 第 1 页\n",
      "当前页为 第 2 页\n",
      "当前页为 第 3 页\n",
      "当前页为 第 4 页\n",
      "当前页为 第 5 页\n",
      "当前页为 第 6 页\n",
      "当前页为 第 7 页\n",
      "当前页为 第 8 页\n",
      "当前页为 第 9 页\n",
      "当前页为 第 10 页\n"
     ]
    }
   ],
   "source": [
    "'''\n",
    "    获取王晶导演的作品并存储\n",
    "'''\n",
    "import re\n",
    "import os\n",
    "import csv\n",
    "import time\n",
    "from selenium import webdriver\n",
    "from selenium.webdriver.chrome.options import Options\n",
    "\n",
    "# 王晶 Jing Wong 的导演作品 链接\n",
    "url = 'https://movie.douban.com/celebrity/1274331/movies?sortby=vote&format=pic&role=D'\n",
    "\n",
    "chrome_opt = Options()\n",
    "driver = webdriver.Chrome(executable_path='./chromedriver', options=chrome_opt)\n",
    "driver.get(url)\n",
    "        \n",
    "next_page = driver.find_element_by_xpath('//*[@class=\"next\"]')\n",
    "\n",
    "# 创建 csv\n",
    "with open('./JingWong.csv', 'w', newline='', encoding='utf-8-sig') as csvfile:\n",
    "    writer = csv.writer(csvfile, delimiter=',')\n",
    "    writer.writerow(['电影名称', '主演演员'])\n",
    "\n",
    "num = 1\n",
    "while next_page:\n",
    "    print(f'当前页为 第 {num} 页')\n",
    "    time.sleep(1)\n",
    "    movie_lists = driver.find_elements_by_xpath('//*[@id=\"content\"]/div/div/div/ul/li/dl/dd/h6/a')\n",
    "    actor_lists = driver.find_elements_by_xpath('//*[@id=\"content\"]/div/div/div/ul/li/dl/dd/dl/dd[2]')\n",
    "    for movie_t, actor_list in zip(movie_lists, actor_lists):\n",
    "        movie = movie_t.text\n",
    "        actors = re.sub('[a-zA-z\\.\\ \\-]|/\"$', '', actor_list.text).split('/')\n",
    "        with open('JingWong.csv', 'a+', encoding='utf-8-sig') as csvfile:\n",
    "            writer = csv.writer(csvfile)\n",
    "            writer.writerow([movie, [x for x in actors if len(x) > 1]])\n",
    "\n",
    "    next_page = driver.find_element_by_xpath('//*[@class=\"next\"]')\n",
    "    next_page.click()\n",
    "    num += 1\n",
    "    if num > 10:\n",
    "        break\n",
    "\n",
    "driver.quit()"
   ]
  },
  {
   "cell_type": "code",
   "execution_count": 3,
   "metadata": {},
   "outputs": [],
   "source": [
    "'''\n",
    "    利用 Apriori 算法分析\n",
    "    找出演员任用关联规则\n",
    "'''\n",
    "import re\n",
    "import pandas as pd\n",
    "from efficient_apriori import apriori\n",
    "\n",
    "# 加载数据集\n",
    "data_o = pd.read_csv('./JingWong.csv', encoding='utf-8-sig', converters={'主演演员': lambda x: list(map(str, x.split(',')))})\n",
    "data_n = data_o['主演演员'].values.tolist()\n",
    "data = []\n",
    "for d in data_n:\n",
    "    names = []\n",
    "    for name in d:\n",
    "        names.append(re.sub(\"['|\\[|\\]\\ ]\", '', name))\n",
    "    data.append(names)\n",
    "# 挖掘频繁项集和频繁规则\n",
    "itemsets, rules = apriori(data[:30], min_support=0.1, min_confidence=1)"
   ]
  },
  {
   "cell_type": "code",
   "execution_count": 4,
   "metadata": {},
   "outputs": [
    {
     "output_type": "execute_result",
     "data": {
      "text/plain": [
       "{1: {('吴孟达',): 3,\n",
       "  ('周星驰',): 9,\n",
       "  ('张敏',): 7,\n",
       "  ('刘德华',): 9,\n",
       "  ('陈百祥',): 4,\n",
       "  ('邱淑贞',): 8,\n",
       "  ('叶德娴',): 4,\n",
       "  ('周海媚',): 3,\n",
       "  ('梁家辉',): 4,\n",
       "  ('李连杰',): 4,\n",
       "  ('张卫健',): 3,\n",
       "  ('张学友',): 3,\n",
       "  ('方中信',): 3},\n",
       " 2: {('吴孟达', '周星驰'): 3, ('周星驰', '张敏'): 3, ('刘德华', '张敏'): 3, ('李连杰', '邱淑贞'): 3}}"
      ]
     },
     "metadata": {},
     "execution_count": 4
    }
   ],
   "source": [
    "itemsets"
   ]
  },
  {
   "cell_type": "code",
   "execution_count": 5,
   "metadata": {},
   "outputs": [
    {
     "output_type": "execute_result",
     "data": {
      "text/plain": [
       "[{吴孟达} -> {周星驰}]"
      ]
     },
     "metadata": {},
     "execution_count": 5
    }
   ],
   "source": [
    "rules"
   ]
  },
  {
   "source": [
    "最终发现出现吴孟达的王晶电影里，很大程度上会存在演员周星驰。"
   ],
   "cell_type": "markdown",
   "metadata": {}
  },
  {
   "cell_type": "code",
   "execution_count": null,
   "metadata": {},
   "outputs": [],
   "source": []
  }
 ]
}